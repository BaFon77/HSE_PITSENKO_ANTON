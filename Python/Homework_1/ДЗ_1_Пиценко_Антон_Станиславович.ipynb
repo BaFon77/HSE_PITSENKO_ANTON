{
 "cells": [
  {
   "cell_type": "markdown",
   "id": "6728f12d",
   "metadata": {},
   "source": [
    "# Задание 1"
   ]
  },
  {
   "cell_type": "markdown",
   "id": "cec83a6b",
   "metadata": {},
   "source": [
    "Переведите содержимое файла purchase_log.txt в словарь purchases вида:\n",
    "{'1840e0b9d4': 'Продукты', ...}\n",
    "\n",
    "Пример работы программы при выводе первых двух элементов словаря purchases:\n",
    "\n",
    "1840e0b9d4 ‘Продукты‘\n",
    "\n",
    "4e4f90fcfb ‘Электроника‘"
   ]
  },
  {
   "cell_type": "code",
   "execution_count": 1,
   "id": "949389e8",
   "metadata": {},
   "outputs": [],
   "source": [
    "import json"
   ]
  },
  {
   "cell_type": "code",
   "execution_count": 4,
   "id": "6cbf0c7b",
   "metadata": {},
   "outputs": [],
   "source": [
    "purchases = {}\n",
    "\n",
    "with open('purchase_log.txt', 'r', encoding='utf-8') as f:\n",
    "    for line in f:\n",
    "        data = json.loads(line.strip())\n",
    "        purchases[data['user_id']] = data['category']"
   ]
  },
  {
   "cell_type": "code",
   "execution_count": 8,
   "id": "b8155bb5",
   "metadata": {},
   "outputs": [
    {
     "name": "stdout",
     "output_type": "stream",
     "text": [
      "user_id category\n",
      "1840e0b9d4 Продукты\n"
     ]
    }
   ],
   "source": [
    "for i, (user, category) in enumerate(purchases.items()):\n",
    "    print(user, category)\n",
    "    if i == 1:\n",
    "        break"
   ]
  },
  {
   "cell_type": "markdown",
   "id": "47437bc8",
   "metadata": {},
   "source": [
    "# Задание 2"
   ]
  },
  {
   "cell_type": "markdown",
   "id": "a99a40d6",
   "metadata": {},
   "source": [
    "Для каждого user_id в файле visit_log.csv определите третий столбец с категорией покупки. Если покупка была, сам файл visit_log.csv изменять не надо.\n",
    "\n",
    "Запишите в файл funnel.csv визиты из файла visit_log.csv, в которых были покупки с указанием категории.\n",
    "\n",
    "Учтите условия для данных:\n",
    "\n",
    "содержимое purchase_log.txt помещается в оперативную память компьютера;\n",
    "содержимое visit_log.csv — нет, используйте только построчную обработку этого файла.\n",
    "Примеры работы программы при выводе первых трёх строк файла funnel.csv:\n",
    "\n",
    "user_id,source,category\n",
    "\n",
    "1840e0b9d4,other,Продукты\n",
    "\n",
    "4e4f90fcfb,context,Электроника"
   ]
  },
  {
   "cell_type": "code",
   "execution_count": 10,
   "id": "93ee1b07",
   "metadata": {},
   "outputs": [],
   "source": [
    "import csv\n",
    "\n",
    "purchases = {}\n",
    "\n",
    "with open(file='purchase_log.txt', mode='r', encoding='utf-8') as f:\n",
    "    for line in f:\n",
    "        data = json.loads(line.strip())\n",
    "        purchases[data['user_id']] = data['category']"
   ]
  },
  {
   "cell_type": "code",
   "execution_count": 13,
   "id": "ebba95b7",
   "metadata": {},
   "outputs": [],
   "source": [
    "with open(file='visit_log.csv', mode='r', encoding='utf-8') as visits, \\\n",
    "     open(file='funnel.csv', mode='w', encoding='utf-8', newline='') as funnels:\n",
    "    \n",
    "    reader = csv.reader(visits)\n",
    "    writer = csv.writer(funnels)\n",
    "\n",
    "    header = next(reader)\n",
    "    header.append('category')\n",
    "    writer.writerow(header)\n",
    "\n",
    "    for row in reader:\n",
    "        user_id = row[0]\n",
    "        if user_id in purchases:\n",
    "            row.append(purchases[user_id])\n",
    "            writer.writerow(row)"
   ]
  },
  {
   "cell_type": "code",
   "execution_count": 15,
   "id": "beec9209",
   "metadata": {},
   "outputs": [
    {
     "name": "stdout",
     "output_type": "stream",
     "text": [
      "user_id,source,category\n",
      "1840e0b9d4,other,Продукты\n",
      "4e4f90fcfb,context,Электроника\n"
     ]
    }
   ],
   "source": [
    "!head -n 3 funnel.csv"
   ]
  }
 ],
 "metadata": {
  "kernelspec": {
   "display_name": ".venv",
   "language": "python",
   "name": "python3"
  },
  "language_info": {
   "codemirror_mode": {
    "name": "ipython",
    "version": 3
   },
   "file_extension": ".py",
   "mimetype": "text/x-python",
   "name": "python",
   "nbconvert_exporter": "python",
   "pygments_lexer": "ipython3",
   "version": "3.13.7"
  }
 },
 "nbformat": 4,
 "nbformat_minor": 5
}
