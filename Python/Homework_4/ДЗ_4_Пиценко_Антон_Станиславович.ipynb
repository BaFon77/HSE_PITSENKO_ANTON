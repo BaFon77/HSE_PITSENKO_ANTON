{
 "cells": [
  {
   "metadata": {},
   "cell_type": "markdown",
   "source": "# Задание 1",
   "id": "f931a6c64bb10d61"
  },
  {
   "metadata": {},
   "cell_type": "markdown",
   "source": [
    "Напишите функцию, которая принимает на вход строку и проверяет, является ли она валидным транспортным номером (1 буква, 3 цифры, 2 буквы, 2–3 цифры). Обратите внимание, что не все буквы кириллического алфавита используются в транспортных номерах.\n",
    "\n",
    "Если номер валиден, то функция должна возвращать отдельно номер и регион.\n",
    "\n",
    "Примеры работы программы: <br>\n",
    "car_id = 'А222BС96' <br>\n",
    "Результат: Номер А222BС валиден. Регион: 96.\n",
    "\n",
    "car_id = 'АБ22ВВ193' <br>\n",
    "Результат: Номер не валиден."
   ],
   "id": "90314bbdc56ddd45"
  },
  {
   "metadata": {
    "ExecuteTime": {
     "end_time": "2025-10-24T16:20:45.574336Z",
     "start_time": "2025-10-24T16:20:45.571678Z"
    }
   },
   "cell_type": "code",
   "source": "import re",
   "id": "55e5a7ed1733c118",
   "outputs": [],
   "execution_count": 2
  },
  {
   "metadata": {
    "ExecuteTime": {
     "end_time": "2025-10-24T16:20:54.883427Z",
     "start_time": "2025-10-24T16:20:54.878998Z"
    }
   },
   "cell_type": "code",
   "source": [
    "def check_car_number(car_id: str) -> str:\n",
    "    valid_letters = \"АВЕКМНОРСТУХ\"\n",
    "\n",
    "    pattern = rf\"^([{valid_letters}])(\\d{{3}})([{valid_letters}]{{2}})(\\d{{2,3}})$\"\n",
    "\n",
    "    match = re.match(pattern, car_id)\n",
    "    if match:\n",
    "        number_part = match.group(1) + match.group(2) + match.group(3)\n",
    "        region = match.group(4)\n",
    "        return f\"Номер {number_part} валиден. Регион: {region}.\"\n",
    "    else:\n",
    "        return \"Номер не валиден\""
   ],
   "id": "9d66dc62e446b155",
   "outputs": [],
   "execution_count": 3
  },
  {
   "metadata": {
    "ExecuteTime": {
     "end_time": "2025-10-24T16:20:57.463521Z",
     "start_time": "2025-10-24T16:20:57.460047Z"
    }
   },
   "cell_type": "code",
   "source": [
    "print(check_car_number('А222ВС96'))\n",
    "print(check_car_number('АБ22ВВ193'))"
   ],
   "id": "b77eecd20d6ecdd6",
   "outputs": [
    {
     "name": "stdout",
     "output_type": "stream",
     "text": [
      "Номер А222ВС валиден. Регион: 96.\n",
      "Номер не валиден\n"
     ]
    }
   ],
   "execution_count": 4
  },
  {
   "metadata": {},
   "cell_type": "markdown",
   "source": "# Задание 2",
   "id": "44d2542ef6e03b66"
  },
  {
   "metadata": {},
   "cell_type": "markdown",
   "source": [
    "Напишите функцию, которая будет удалять все последовательные повторы слов из заданной строки при помощи регулярных выражений.\n",
    "\n",
    "Пример работы программы:\n",
    "some_string = 'Напишите функцию функцию, которая будет будет будет будет удалять все все все все последовательные повторы слов из из из из заданной строки строки при помощи регулярных выражений'\n",
    "\n",
    "Результат: Напишите функцию, которая будет удалять все последовательные повторы слов из заданной строки при помощи регулярных выражений."
   ],
   "id": "df33687fdbdc933"
  },
  {
   "metadata": {
    "ExecuteTime": {
     "end_time": "2025-10-24T16:23:03.617595Z",
     "start_time": "2025-10-24T16:23:03.613628Z"
    }
   },
   "cell_type": "code",
   "source": [
    "def remove_repeated_words(text: str) -> str:\n",
    "    pattern = r'\\b(\\w+)(?:\\s+\\1\\b)+'\n",
    "    return re.sub(pattern, r'\\1', text, flags=re.IGNORECASE)"
   ],
   "id": "98619728b8d5ab78",
   "outputs": [],
   "execution_count": 5
  },
  {
   "metadata": {
    "ExecuteTime": {
     "end_time": "2025-10-24T16:25:05.736837Z",
     "start_time": "2025-10-24T16:25:05.732700Z"
    }
   },
   "cell_type": "code",
   "source": [
    "example = ('Напишите функцию функцию, которая будет будет будет будет '\n",
    "           'удалять все все все все последовательные повторы слов из из из из '\n",
    "           'заданной строки строки при помощи регулярных выражений')\n",
    "\n",
    "remove_repeated_words(example)"
   ],
   "id": "40b33efacaa7d05",
   "outputs": [
    {
     "data": {
      "text/plain": [
       "'Напишите функцию, которая будет удалять все последовательные повторы слов из заданной строки при помощи регулярных выражений'"
      ]
     },
     "execution_count": 13,
     "metadata": {},
     "output_type": "execute_result"
    }
   ],
   "execution_count": 13
  }
 ],
 "metadata": {
  "kernelspec": {
   "display_name": "Python 3",
   "language": "python",
   "name": "python3"
  },
  "language_info": {
   "codemirror_mode": {
    "name": "ipython",
    "version": 2
   },
   "file_extension": ".py",
   "mimetype": "text/x-python",
   "name": "python",
   "nbconvert_exporter": "python",
   "pygments_lexer": "ipython2",
   "version": "2.7.6"
  }
 },
 "nbformat": 4,
 "nbformat_minor": 5
}
