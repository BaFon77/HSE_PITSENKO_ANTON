{
 "cells": [
  {
   "metadata": {
    "ExecuteTime": {
     "end_time": "2025-10-21T18:56:42.820680Z",
     "start_time": "2025-10-21T18:56:42.292247Z"
    }
   },
   "cell_type": "code",
   "source": "!pip install pandas matplotlib seaborn",
   "id": "77d4572988b56ba0",
   "outputs": [
    {
     "name": "stdout",
     "output_type": "stream",
     "text": [
      "Defaulting to user installation because normal site-packages is not writeable\r\n",
      "Requirement already satisfied: pandas in /Users/antonpitsenko/Library/Python/3.9/lib/python/site-packages (2.2.3)\r\n",
      "Requirement already satisfied: matplotlib in /Users/antonpitsenko/Library/Python/3.9/lib/python/site-packages (3.9.2)\r\n",
      "Requirement already satisfied: seaborn in /Users/antonpitsenko/Library/Python/3.9/lib/python/site-packages (0.13.2)\r\n",
      "Requirement already satisfied: numpy>=1.22.4 in /Users/antonpitsenko/Library/Python/3.9/lib/python/site-packages (from pandas) (2.0.2)\r\n",
      "Requirement already satisfied: python-dateutil>=2.8.2 in /Users/antonpitsenko/Library/Python/3.9/lib/python/site-packages (from pandas) (2.9.0.post0)\r\n",
      "Requirement already satisfied: pytz>=2020.1 in /Users/antonpitsenko/Library/Python/3.9/lib/python/site-packages (from pandas) (2024.2)\r\n",
      "Requirement already satisfied: tzdata>=2022.7 in /Users/antonpitsenko/Library/Python/3.9/lib/python/site-packages (from pandas) (2024.2)\r\n",
      "Requirement already satisfied: contourpy>=1.0.1 in /Users/antonpitsenko/Library/Python/3.9/lib/python/site-packages (from matplotlib) (1.3.0)\r\n",
      "Requirement already satisfied: cycler>=0.10 in /Users/antonpitsenko/Library/Python/3.9/lib/python/site-packages (from matplotlib) (0.12.1)\r\n",
      "Requirement already satisfied: fonttools>=4.22.0 in /Users/antonpitsenko/Library/Python/3.9/lib/python/site-packages (from matplotlib) (4.54.1)\r\n",
      "Requirement already satisfied: kiwisolver>=1.3.1 in /Users/antonpitsenko/Library/Python/3.9/lib/python/site-packages (from matplotlib) (1.4.7)\r\n",
      "Requirement already satisfied: packaging>=20.0 in /Users/antonpitsenko/Library/Python/3.9/lib/python/site-packages (from matplotlib) (24.1)\r\n",
      "Requirement already satisfied: pillow>=8 in /Users/antonpitsenko/Library/Python/3.9/lib/python/site-packages (from matplotlib) (11.0.0)\r\n",
      "Requirement already satisfied: pyparsing>=2.3.1 in /Users/antonpitsenko/Library/Python/3.9/lib/python/site-packages (from matplotlib) (3.2.0)\r\n",
      "Requirement already satisfied: importlib-resources>=3.2.0 in /Users/antonpitsenko/Library/Python/3.9/lib/python/site-packages (from matplotlib) (6.4.5)\r\n",
      "Requirement already satisfied: zipp>=3.1.0 in /Users/antonpitsenko/Library/Python/3.9/lib/python/site-packages (from importlib-resources>=3.2.0->matplotlib) (3.20.1)\r\n",
      "Requirement already satisfied: six>=1.5 in /Library/Developer/CommandLineTools/Library/Frameworks/Python3.framework/Versions/3.9/lib/python3.9/site-packages (from python-dateutil>=2.8.2->pandas) (1.15.0)\r\n",
      "\r\n",
      "\u001B[1m[\u001B[0m\u001B[34;49mnotice\u001B[0m\u001B[1;39;49m]\u001B[0m\u001B[39;49m A new release of pip is available: \u001B[0m\u001B[31;49m24.3.1\u001B[0m\u001B[39;49m -> \u001B[0m\u001B[32;49m25.2\u001B[0m\r\n",
      "\u001B[1m[\u001B[0m\u001B[34;49mnotice\u001B[0m\u001B[1;39;49m]\u001B[0m\u001B[39;49m To update, run: \u001B[0m\u001B[32;49m/Library/Developer/CommandLineTools/usr/bin/python3 -m pip install --upgrade pip\u001B[0m\r\n"
     ]
    }
   ],
   "execution_count": 16
  },
  {
   "metadata": {},
   "cell_type": "markdown",
   "source": "# Задание 1",
   "id": "85faa5e3f39adaf5"
  },
  {
   "metadata": {},
   "cell_type": "markdown",
   "source": [
    "На основании датасета для каждого покупателя получите:<br>\n",
    "•\tпредпочитаемый метод оплаты;<br>\n",
    "•\tобщие траты;<br>\n",
    "•\tколичество денег, потраченных на дополнительные услуги и аксессуары\n"
   ],
   "id": "516cbe871b2d6d3e"
  },
  {
   "metadata": {
    "ExecuteTime": {
     "end_time": "2025-10-22T16:52:28.262658Z",
     "start_time": "2025-10-22T16:52:28.256615Z"
    }
   },
   "cell_type": "code",
   "source": "import pandas as pd",
   "id": "4742d245d18f24a6",
   "outputs": [],
   "execution_count": 110
  },
  {
   "metadata": {
    "ExecuteTime": {
     "end_time": "2025-10-21T18:49:21.132024Z",
     "start_time": "2025-10-21T18:49:21.105529Z"
    }
   },
   "cell_type": "code",
   "source": "df = pd.read_csv(\"Electronic_sales_Sep2023-Sep2024.csv\")",
   "id": "4975ea2a545b66dd",
   "outputs": [],
   "execution_count": 6
  },
  {
   "metadata": {
    "ExecuteTime": {
     "end_time": "2025-10-22T16:22:58.996368Z",
     "start_time": "2025-10-22T16:22:58.985609Z"
    }
   },
   "cell_type": "code",
   "source": "df.head()",
   "id": "21474892ca7e75b4",
   "outputs": [
    {
     "data": {
      "text/plain": [
       "   Customer ID  Age Gender Loyalty Member Product Type      SKU  Rating  \\\n",
       "0         1000   53   Male             No   Smartphone  SKU1004       2   \n",
       "1         1000   53   Male             No       Tablet  SKU1002       3   \n",
       "2         1002   41   Male             No       Laptop  SKU1005       3   \n",
       "3         1002   41   Male            Yes   Smartphone  SKU1004       2   \n",
       "4         1003   75   Male            Yes   Smartphone  SKU1001       5   \n",
       "\n",
       "  Order Status Payment Method  Total Price  Unit Price  Quantity  \\\n",
       "0    Cancelled    Credit Card      5538.33      791.19         7   \n",
       "1    Completed         Paypal       741.09      247.03         3   \n",
       "2    Completed    Credit Card      1855.84      463.96         4   \n",
       "3    Completed           Cash      3164.76      791.19         4   \n",
       "4    Completed           Cash        41.50       20.75         2   \n",
       "\n",
       "  Purchase Date Shipping Type              Add-ons Purchased  Add-on Total  \\\n",
       "0    2024-03-20      Standard  Accessory,Accessory,Accessory         40.21   \n",
       "1    2024-04-20     Overnight                   Impulse Item         26.09   \n",
       "2    2023-10-17       Express                            NaN          0.00   \n",
       "3    2024-08-09     Overnight      Impulse Item,Impulse Item         60.16   \n",
       "4    2024-05-21       Express                      Accessory         35.56   \n",
       "\n",
       "       Month    Quarter  \n",
       "0 2024-03-01 2024-01-01  \n",
       "1 2024-04-01 2024-04-01  \n",
       "2 2023-10-01 2023-10-01  \n",
       "3 2024-08-01 2024-07-01  \n",
       "4 2024-05-01 2024-04-01  "
      ],
      "text/html": [
       "<div>\n",
       "<style scoped>\n",
       "    .dataframe tbody tr th:only-of-type {\n",
       "        vertical-align: middle;\n",
       "    }\n",
       "\n",
       "    .dataframe tbody tr th {\n",
       "        vertical-align: top;\n",
       "    }\n",
       "\n",
       "    .dataframe thead th {\n",
       "        text-align: right;\n",
       "    }\n",
       "</style>\n",
       "<table border=\"1\" class=\"dataframe\">\n",
       "  <thead>\n",
       "    <tr style=\"text-align: right;\">\n",
       "      <th></th>\n",
       "      <th>Customer ID</th>\n",
       "      <th>Age</th>\n",
       "      <th>Gender</th>\n",
       "      <th>Loyalty Member</th>\n",
       "      <th>Product Type</th>\n",
       "      <th>SKU</th>\n",
       "      <th>Rating</th>\n",
       "      <th>Order Status</th>\n",
       "      <th>Payment Method</th>\n",
       "      <th>Total Price</th>\n",
       "      <th>Unit Price</th>\n",
       "      <th>Quantity</th>\n",
       "      <th>Purchase Date</th>\n",
       "      <th>Shipping Type</th>\n",
       "      <th>Add-ons Purchased</th>\n",
       "      <th>Add-on Total</th>\n",
       "      <th>Month</th>\n",
       "      <th>Quarter</th>\n",
       "    </tr>\n",
       "  </thead>\n",
       "  <tbody>\n",
       "    <tr>\n",
       "      <th>0</th>\n",
       "      <td>1000</td>\n",
       "      <td>53</td>\n",
       "      <td>Male</td>\n",
       "      <td>No</td>\n",
       "      <td>Smartphone</td>\n",
       "      <td>SKU1004</td>\n",
       "      <td>2</td>\n",
       "      <td>Cancelled</td>\n",
       "      <td>Credit Card</td>\n",
       "      <td>5538.33</td>\n",
       "      <td>791.19</td>\n",
       "      <td>7</td>\n",
       "      <td>2024-03-20</td>\n",
       "      <td>Standard</td>\n",
       "      <td>Accessory,Accessory,Accessory</td>\n",
       "      <td>40.21</td>\n",
       "      <td>2024-03-01</td>\n",
       "      <td>2024-01-01</td>\n",
       "    </tr>\n",
       "    <tr>\n",
       "      <th>1</th>\n",
       "      <td>1000</td>\n",
       "      <td>53</td>\n",
       "      <td>Male</td>\n",
       "      <td>No</td>\n",
       "      <td>Tablet</td>\n",
       "      <td>SKU1002</td>\n",
       "      <td>3</td>\n",
       "      <td>Completed</td>\n",
       "      <td>Paypal</td>\n",
       "      <td>741.09</td>\n",
       "      <td>247.03</td>\n",
       "      <td>3</td>\n",
       "      <td>2024-04-20</td>\n",
       "      <td>Overnight</td>\n",
       "      <td>Impulse Item</td>\n",
       "      <td>26.09</td>\n",
       "      <td>2024-04-01</td>\n",
       "      <td>2024-04-01</td>\n",
       "    </tr>\n",
       "    <tr>\n",
       "      <th>2</th>\n",
       "      <td>1002</td>\n",
       "      <td>41</td>\n",
       "      <td>Male</td>\n",
       "      <td>No</td>\n",
       "      <td>Laptop</td>\n",
       "      <td>SKU1005</td>\n",
       "      <td>3</td>\n",
       "      <td>Completed</td>\n",
       "      <td>Credit Card</td>\n",
       "      <td>1855.84</td>\n",
       "      <td>463.96</td>\n",
       "      <td>4</td>\n",
       "      <td>2023-10-17</td>\n",
       "      <td>Express</td>\n",
       "      <td>NaN</td>\n",
       "      <td>0.00</td>\n",
       "      <td>2023-10-01</td>\n",
       "      <td>2023-10-01</td>\n",
       "    </tr>\n",
       "    <tr>\n",
       "      <th>3</th>\n",
       "      <td>1002</td>\n",
       "      <td>41</td>\n",
       "      <td>Male</td>\n",
       "      <td>Yes</td>\n",
       "      <td>Smartphone</td>\n",
       "      <td>SKU1004</td>\n",
       "      <td>2</td>\n",
       "      <td>Completed</td>\n",
       "      <td>Cash</td>\n",
       "      <td>3164.76</td>\n",
       "      <td>791.19</td>\n",
       "      <td>4</td>\n",
       "      <td>2024-08-09</td>\n",
       "      <td>Overnight</td>\n",
       "      <td>Impulse Item,Impulse Item</td>\n",
       "      <td>60.16</td>\n",
       "      <td>2024-08-01</td>\n",
       "      <td>2024-07-01</td>\n",
       "    </tr>\n",
       "    <tr>\n",
       "      <th>4</th>\n",
       "      <td>1003</td>\n",
       "      <td>75</td>\n",
       "      <td>Male</td>\n",
       "      <td>Yes</td>\n",
       "      <td>Smartphone</td>\n",
       "      <td>SKU1001</td>\n",
       "      <td>5</td>\n",
       "      <td>Completed</td>\n",
       "      <td>Cash</td>\n",
       "      <td>41.50</td>\n",
       "      <td>20.75</td>\n",
       "      <td>2</td>\n",
       "      <td>2024-05-21</td>\n",
       "      <td>Express</td>\n",
       "      <td>Accessory</td>\n",
       "      <td>35.56</td>\n",
       "      <td>2024-05-01</td>\n",
       "      <td>2024-04-01</td>\n",
       "    </tr>\n",
       "  </tbody>\n",
       "</table>\n",
       "</div>"
      ]
     },
     "execution_count": 86,
     "metadata": {},
     "output_type": "execute_result"
    }
   ],
   "execution_count": 86
  },
  {
   "metadata": {
    "ExecuteTime": {
     "end_time": "2025-10-22T16:24:43.366542Z",
     "start_time": "2025-10-22T16:24:42.664542Z"
    }
   },
   "cell_type": "code",
   "source": [
    "preferred_payment = df.groupby('Customer ID')['Payment Method'] \\\n",
    "    .agg(lambda methods: methods.mode().iloc[0] if len(methods.mode()) == 1 else methods.mode().tolist()) \\\n",
    "    .reset_index(name='Предпочитаемый метод оплаты')\n",
    "\n",
    "comp_df = df[df['Order Status'] == 'Completed']\n",
    "\n",
    "total_spent = comp_df.groupby('Customer ID')['Total Price'].sum().reset_index(name='Общие траты')\n",
    "\n",
    "addon_spent = comp_df.groupby('Customer ID')['Add-on Total'].sum().reset_index(name='Доп. траты')\n",
    "\n",
    "customer_summary = preferred_payment \\\n",
    "    .merge(total_spent, on='Customer ID') \\\n",
    "    .merge(addon_spent, on='Customer ID')"
   ],
   "id": "e6e2f214602770ef",
   "outputs": [],
   "execution_count": 89
  },
  {
   "metadata": {
    "ExecuteTime": {
     "end_time": "2025-10-22T16:24:44.893915Z",
     "start_time": "2025-10-22T16:24:44.885583Z"
    }
   },
   "cell_type": "code",
   "source": "customer_summary",
   "id": "5e9965f1a2162126",
   "outputs": [
    {
     "data": {
      "text/plain": [
       "      Customer ID           Предпочитаемый метод оплаты  Общие траты  \\\n",
       "0            1000                 [Credit Card, Paypal]       741.09   \n",
       "1            1002                   [Cash, Credit Card]      5020.60   \n",
       "2            1003                                  Cash        41.50   \n",
       "3            1004                           Credit Card        83.00   \n",
       "4            1005                  [Debit Card, Paypal]     11779.11   \n",
       "...           ...                                   ...          ...   \n",
       "9461        19990                                PayPal      9117.44   \n",
       "9462        19991                 [Credit Card, PayPal]     12368.06   \n",
       "9463        19995                           Credit Card      5394.56   \n",
       "9464        19996  [Bank Transfer, Credit Card, PayPal]     12063.02   \n",
       "9465        19998                         Bank Transfer       674.32   \n",
       "\n",
       "      Доп. траты  \n",
       "0          26.09  \n",
       "1          60.16  \n",
       "2          35.56  \n",
       "3          65.78  \n",
       "4          75.33  \n",
       "...          ...  \n",
       "9461      113.56  \n",
       "9462        0.00  \n",
       "9463        0.00  \n",
       "9464      198.98  \n",
       "9465        0.00  \n",
       "\n",
       "[9466 rows x 4 columns]"
      ],
      "text/html": [
       "<div>\n",
       "<style scoped>\n",
       "    .dataframe tbody tr th:only-of-type {\n",
       "        vertical-align: middle;\n",
       "    }\n",
       "\n",
       "    .dataframe tbody tr th {\n",
       "        vertical-align: top;\n",
       "    }\n",
       "\n",
       "    .dataframe thead th {\n",
       "        text-align: right;\n",
       "    }\n",
       "</style>\n",
       "<table border=\"1\" class=\"dataframe\">\n",
       "  <thead>\n",
       "    <tr style=\"text-align: right;\">\n",
       "      <th></th>\n",
       "      <th>Customer ID</th>\n",
       "      <th>Предпочитаемый метод оплаты</th>\n",
       "      <th>Общие траты</th>\n",
       "      <th>Доп. траты</th>\n",
       "    </tr>\n",
       "  </thead>\n",
       "  <tbody>\n",
       "    <tr>\n",
       "      <th>0</th>\n",
       "      <td>1000</td>\n",
       "      <td>[Credit Card, Paypal]</td>\n",
       "      <td>741.09</td>\n",
       "      <td>26.09</td>\n",
       "    </tr>\n",
       "    <tr>\n",
       "      <th>1</th>\n",
       "      <td>1002</td>\n",
       "      <td>[Cash, Credit Card]</td>\n",
       "      <td>5020.60</td>\n",
       "      <td>60.16</td>\n",
       "    </tr>\n",
       "    <tr>\n",
       "      <th>2</th>\n",
       "      <td>1003</td>\n",
       "      <td>Cash</td>\n",
       "      <td>41.50</td>\n",
       "      <td>35.56</td>\n",
       "    </tr>\n",
       "    <tr>\n",
       "      <th>3</th>\n",
       "      <td>1004</td>\n",
       "      <td>Credit Card</td>\n",
       "      <td>83.00</td>\n",
       "      <td>65.78</td>\n",
       "    </tr>\n",
       "    <tr>\n",
       "      <th>4</th>\n",
       "      <td>1005</td>\n",
       "      <td>[Debit Card, Paypal]</td>\n",
       "      <td>11779.11</td>\n",
       "      <td>75.33</td>\n",
       "    </tr>\n",
       "    <tr>\n",
       "      <th>...</th>\n",
       "      <td>...</td>\n",
       "      <td>...</td>\n",
       "      <td>...</td>\n",
       "      <td>...</td>\n",
       "    </tr>\n",
       "    <tr>\n",
       "      <th>9461</th>\n",
       "      <td>19990</td>\n",
       "      <td>PayPal</td>\n",
       "      <td>9117.44</td>\n",
       "      <td>113.56</td>\n",
       "    </tr>\n",
       "    <tr>\n",
       "      <th>9462</th>\n",
       "      <td>19991</td>\n",
       "      <td>[Credit Card, PayPal]</td>\n",
       "      <td>12368.06</td>\n",
       "      <td>0.00</td>\n",
       "    </tr>\n",
       "    <tr>\n",
       "      <th>9463</th>\n",
       "      <td>19995</td>\n",
       "      <td>Credit Card</td>\n",
       "      <td>5394.56</td>\n",
       "      <td>0.00</td>\n",
       "    </tr>\n",
       "    <tr>\n",
       "      <th>9464</th>\n",
       "      <td>19996</td>\n",
       "      <td>[Bank Transfer, Credit Card, PayPal]</td>\n",
       "      <td>12063.02</td>\n",
       "      <td>198.98</td>\n",
       "    </tr>\n",
       "    <tr>\n",
       "      <th>9465</th>\n",
       "      <td>19998</td>\n",
       "      <td>Bank Transfer</td>\n",
       "      <td>674.32</td>\n",
       "      <td>0.00</td>\n",
       "    </tr>\n",
       "  </tbody>\n",
       "</table>\n",
       "<p>9466 rows × 4 columns</p>\n",
       "</div>"
      ]
     },
     "execution_count": 90,
     "metadata": {},
     "output_type": "execute_result"
    }
   ],
   "execution_count": 90
  },
  {
   "metadata": {},
   "cell_type": "markdown",
   "source": "# Задание 2",
   "id": "98655adf5187c8d8"
  },
  {
   "metadata": {},
   "cell_type": "markdown",
   "source": [
    "1. На основании датасета получите доход: <br>\n",
    "•\tпо каждому методу доставки, <br>\n",
    "•\tпо каждому типу продукта, <br>\n",
    "•\tпо дополнительным услугам за каждый месяц, <br>\n",
    "•\tпо дополнительным услугам за каждый квартал. <br>\n",
    "2. Отобразите полученные данные на графике"
   ],
   "id": "1f426250ffe7a812"
  },
  {
   "metadata": {},
   "cell_type": "markdown",
   "source": "Доход по каждому методу доставки",
   "id": "c2ab858c748e779c"
  },
  {
   "metadata": {
    "ExecuteTime": {
     "end_time": "2025-10-22T15:36:19.863240Z",
     "start_time": "2025-10-22T15:36:19.859808Z"
    }
   },
   "cell_type": "code",
   "source": [
    "delivery_income = df.groupby('Shipping Type')['Total Price'] \\\n",
    "                   .sum() \\\n",
    "                   .reset_index() \\\n",
    "                   .rename(columns={\"Total Price\": \"Income\"})"
   ],
   "id": "5164f30222d3a8ae",
   "outputs": [],
   "execution_count": 41
  },
  {
   "metadata": {
    "ExecuteTime": {
     "end_time": "2025-10-22T15:36:21.043354Z",
     "start_time": "2025-10-22T15:36:21.039425Z"
    }
   },
   "cell_type": "code",
   "source": "delivery_income",
   "id": "aebc52f73f5bab34",
   "outputs": [
    {
     "data": {
      "text/plain": [
       "  Shipping Type       Income\n",
       "0     Expedited  12437526.21\n",
       "1       Express   8685215.62\n",
       "2     Overnight   8704828.17\n",
       "3      Same Day  12432024.82\n",
       "4      Standard  21343073.55"
      ],
      "text/html": [
       "<div>\n",
       "<style scoped>\n",
       "    .dataframe tbody tr th:only-of-type {\n",
       "        vertical-align: middle;\n",
       "    }\n",
       "\n",
       "    .dataframe tbody tr th {\n",
       "        vertical-align: top;\n",
       "    }\n",
       "\n",
       "    .dataframe thead th {\n",
       "        text-align: right;\n",
       "    }\n",
       "</style>\n",
       "<table border=\"1\" class=\"dataframe\">\n",
       "  <thead>\n",
       "    <tr style=\"text-align: right;\">\n",
       "      <th></th>\n",
       "      <th>Shipping Type</th>\n",
       "      <th>Income</th>\n",
       "    </tr>\n",
       "  </thead>\n",
       "  <tbody>\n",
       "    <tr>\n",
       "      <th>0</th>\n",
       "      <td>Expedited</td>\n",
       "      <td>12437526.21</td>\n",
       "    </tr>\n",
       "    <tr>\n",
       "      <th>1</th>\n",
       "      <td>Express</td>\n",
       "      <td>8685215.62</td>\n",
       "    </tr>\n",
       "    <tr>\n",
       "      <th>2</th>\n",
       "      <td>Overnight</td>\n",
       "      <td>8704828.17</td>\n",
       "    </tr>\n",
       "    <tr>\n",
       "      <th>3</th>\n",
       "      <td>Same Day</td>\n",
       "      <td>12432024.82</td>\n",
       "    </tr>\n",
       "    <tr>\n",
       "      <th>4</th>\n",
       "      <td>Standard</td>\n",
       "      <td>21343073.55</td>\n",
       "    </tr>\n",
       "  </tbody>\n",
       "</table>\n",
       "</div>"
      ]
     },
     "execution_count": 42,
     "metadata": {},
     "output_type": "execute_result"
    }
   ],
   "execution_count": 42
  },
  {
   "metadata": {
    "ExecuteTime": {
     "end_time": "2025-10-22T15:50:24.835309Z",
     "start_time": "2025-10-22T15:50:24.752238Z"
    }
   },
   "cell_type": "code",
   "source": [
    "delivery_income.plot(\n",
    "    x='Shipping Type',\n",
    "    y='Income',\n",
    "    kind='bar',\n",
    "    figsize=(8, 6),\n",
    "    title='Доход по типам доставки'\n",
    ")"
   ],
   "id": "7d6ded0696dbead3",
   "outputs": [
    {
     "data": {
      "text/plain": [
       "<Axes: title={'center': 'Доход по типам доставки'}, xlabel='Shipping Type'>"
      ]
     },
     "execution_count": 48,
     "metadata": {},
     "output_type": "execute_result"
    },
    {
     "data": {
      "text/plain": [
       "<Figure size 800x600 with 1 Axes>"
      ],
      "image/png": "[encoded data removed]"
     },
     "metadata": {},
     "output_type": "display_data"
    }
   ],
   "execution_count": 48
  },
  {
   "metadata": {},
   "cell_type": "markdown",
   "source": "Доход по каждому типу продукта",
   "id": "15651121cc5b9b1a"
  },
  {
   "metadata": {
    "ExecuteTime": {
     "end_time": "2025-10-22T15:36:23.353976Z",
     "start_time": "2025-10-22T15:36:23.350806Z"
    }
   },
   "cell_type": "code",
   "source": [
    "product_income = df.groupby('Product Type')['Total Price'] \\\n",
    "                  .sum() \\\n",
    "                  .reset_index() \\\n",
    "                  .rename(columns={\"Total Price\": \"Income\"})"
   ],
   "id": "1c2359942af40e0e",
   "outputs": [],
   "execution_count": 43
  },
  {
   "metadata": {
    "ExecuteTime": {
     "end_time": "2025-10-22T15:51:23.605376Z",
     "start_time": "2025-10-22T15:51:23.598977Z"
    }
   },
   "cell_type": "code",
   "source": "product_income",
   "id": "de04cae2bed1f76",
   "outputs": [
    {
     "data": {
      "text/plain": [
       "  Product Type       Income\n",
       "0   Headphones   4041400.24\n",
       "1       Laptop  12296239.97\n",
       "2   Smartphone  21516754.69\n",
       "3   Smartwatch  14036273.06\n",
       "4       Tablet  11712000.41"
      ],
      "text/html": [
       "<div>\n",
       "<style scoped>\n",
       "    .dataframe tbody tr th:only-of-type {\n",
       "        vertical-align: middle;\n",
       "    }\n",
       "\n",
       "    .dataframe tbody tr th {\n",
       "        vertical-align: top;\n",
       "    }\n",
       "\n",
       "    .dataframe thead th {\n",
       "        text-align: right;\n",
       "    }\n",
       "</style>\n",
       "<table border=\"1\" class=\"dataframe\">\n",
       "  <thead>\n",
       "    <tr style=\"text-align: right;\">\n",
       "      <th></th>\n",
       "      <th>Product Type</th>\n",
       "      <th>Income</th>\n",
       "    </tr>\n",
       "  </thead>\n",
       "  <tbody>\n",
       "    <tr>\n",
       "      <th>0</th>\n",
       "      <td>Headphones</td>\n",
       "      <td>4041400.24</td>\n",
       "    </tr>\n",
       "    <tr>\n",
       "      <th>1</th>\n",
       "      <td>Laptop</td>\n",
       "      <td>12296239.97</td>\n",
       "    </tr>\n",
       "    <tr>\n",
       "      <th>2</th>\n",
       "      <td>Smartphone</td>\n",
       "      <td>21516754.69</td>\n",
       "    </tr>\n",
       "    <tr>\n",
       "      <th>3</th>\n",
       "      <td>Smartwatch</td>\n",
       "      <td>14036273.06</td>\n",
       "    </tr>\n",
       "    <tr>\n",
       "      <th>4</th>\n",
       "      <td>Tablet</td>\n",
       "      <td>11712000.41</td>\n",
       "    </tr>\n",
       "  </tbody>\n",
       "</table>\n",
       "</div>"
      ]
     },
     "execution_count": 50,
     "metadata": {},
     "output_type": "execute_result"
    }
   ],
   "execution_count": 50
  },
  {
   "metadata": {
    "ExecuteTime": {
     "end_time": "2025-10-22T15:57:43.704773Z",
     "start_time": "2025-10-22T15:57:43.629431Z"
    }
   },
   "cell_type": "code",
   "source": [
    "product_income.plot(\n",
    "    x='Product Type',\n",
    "    y='Income',\n",
    "    kind='bar',\n",
    "    figsize=(8, 6),\n",
    "    title='Доход по типам продукта'\n",
    ")"
   ],
   "id": "8ba1a86dd3e28d73",
   "outputs": [
    {
     "data": {
      "text/plain": [
       "<Axes: title={'center': 'Доход по типам продукта'}, xlabel='Product Type'>"
      ]
     },
     "execution_count": 54,
     "metadata": {},
     "output_type": "execute_result"
    },
    {
     "data": {
      "text/plain": [
       "<Figure size 800x600 with 1 Axes>"
      ],
      "image/png": "[encoded data removed]"
     },
     "metadata": {},
     "output_type": "display_data"
    }
   ],
   "execution_count": 54
  },
  {
   "metadata": {},
   "cell_type": "markdown",
   "source": "Доход по дополнительным услугам за каждый месяц",
   "id": "306720506e401799"
  },
  {
   "metadata": {
    "ExecuteTime": {
     "end_time": "2025-10-22T15:54:38.688895Z",
     "start_time": "2025-10-22T15:54:38.669784Z"
    }
   },
   "cell_type": "code",
   "source": "df['Purchase Date'] = pd.to_datetime(df['Purchase Date'])",
   "id": "50c1546cc66afd43",
   "outputs": [],
   "execution_count": 52
  },
  {
   "metadata": {
    "ExecuteTime": {
     "end_time": "2025-10-22T16:04:35.220812Z",
     "start_time": "2025-10-22T16:04:35.212036Z"
    }
   },
   "cell_type": "code",
   "source": [
    "month_income = (df.groupby(df['Purchase Date']\n",
    "                          .dt.to_period('M')\n",
    "                          .dt.to_timestamp())['Add-on Total']\n",
    "                .sum()\n",
    "                .reset_index(name='Доп. траты')\n",
    "                .rename(columns={\"Purchase Date\": \"Месяц\"}))"
   ],
   "id": "94be8180370a04fe",
   "outputs": [],
   "execution_count": 62
  },
  {
   "metadata": {
    "ExecuteTime": {
     "end_time": "2025-10-22T16:18:10.085604Z",
     "start_time": "2025-10-22T16:18:10.078851Z"
    }
   },
   "cell_type": "code",
   "source": "month_income",
   "id": "c464d69b5d2fb02b",
   "outputs": [
    {
     "data": {
      "text/plain": [
       "        Месяц  Доп. траты\n",
       "0  2023-09-01     8012.62\n",
       "1  2023-10-01    37837.12\n",
       "2  2023-11-01    34888.81\n",
       "3  2023-12-01    33509.15\n",
       "4  2024-01-01   136195.16\n",
       "5  2024-02-01   120148.92\n",
       "6  2024-03-01   124954.26\n",
       "7  2024-04-01   123973.59\n",
       "8  2024-05-01   132018.51\n",
       "9  2024-06-01   126689.59\n",
       "10 2024-07-01   132017.20\n",
       "11 2024-08-01   135133.14\n",
       "12 2024-09-01    99518.89"
      ],
      "text/html": [
       "<div>\n",
       "<style scoped>\n",
       "    .dataframe tbody tr th:only-of-type {\n",
       "        vertical-align: middle;\n",
       "    }\n",
       "\n",
       "    .dataframe tbody tr th {\n",
       "        vertical-align: top;\n",
       "    }\n",
       "\n",
       "    .dataframe thead th {\n",
       "        text-align: right;\n",
       "    }\n",
       "</style>\n",
       "<table border=\"1\" class=\"dataframe\">\n",
       "  <thead>\n",
       "    <tr style=\"text-align: right;\">\n",
       "      <th></th>\n",
       "      <th>Месяц</th>\n",
       "      <th>Доп. траты</th>\n",
       "    </tr>\n",
       "  </thead>\n",
       "  <tbody>\n",
       "    <tr>\n",
       "      <th>0</th>\n",
       "      <td>2023-09-01</td>\n",
       "      <td>8012.62</td>\n",
       "    </tr>\n",
       "    <tr>\n",
       "      <th>1</th>\n",
       "      <td>2023-10-01</td>\n",
       "      <td>37837.12</td>\n",
       "    </tr>\n",
       "    <tr>\n",
       "      <th>2</th>\n",
       "      <td>2023-11-01</td>\n",
       "      <td>34888.81</td>\n",
       "    </tr>\n",
       "    <tr>\n",
       "      <th>3</th>\n",
       "      <td>2023-12-01</td>\n",
       "      <td>33509.15</td>\n",
       "    </tr>\n",
       "    <tr>\n",
       "      <th>4</th>\n",
       "      <td>2024-01-01</td>\n",
       "      <td>136195.16</td>\n",
       "    </tr>\n",
       "    <tr>\n",
       "      <th>5</th>\n",
       "      <td>2024-02-01</td>\n",
       "      <td>120148.92</td>\n",
       "    </tr>\n",
       "    <tr>\n",
       "      <th>6</th>\n",
       "      <td>2024-03-01</td>\n",
       "      <td>124954.26</td>\n",
       "    </tr>\n",
       "    <tr>\n",
       "      <th>7</th>\n",
       "      <td>2024-04-01</td>\n",
       "      <td>123973.59</td>\n",
       "    </tr>\n",
       "    <tr>\n",
       "      <th>8</th>\n",
       "      <td>2024-05-01</td>\n",
       "      <td>132018.51</td>\n",
       "    </tr>\n",
       "    <tr>\n",
       "      <th>9</th>\n",
       "      <td>2024-06-01</td>\n",
       "      <td>126689.59</td>\n",
       "    </tr>\n",
       "    <tr>\n",
       "      <th>10</th>\n",
       "      <td>2024-07-01</td>\n",
       "      <td>132017.20</td>\n",
       "    </tr>\n",
       "    <tr>\n",
       "      <th>11</th>\n",
       "      <td>2024-08-01</td>\n",
       "      <td>135133.14</td>\n",
       "    </tr>\n",
       "    <tr>\n",
       "      <th>12</th>\n",
       "      <td>2024-09-01</td>\n",
       "      <td>99518.89</td>\n",
       "    </tr>\n",
       "  </tbody>\n",
       "</table>\n",
       "</div>"
      ]
     },
     "execution_count": 76,
     "metadata": {},
     "output_type": "execute_result"
    }
   ],
   "execution_count": 76
  },
  {
   "metadata": {
    "ExecuteTime": {
     "end_time": "2025-10-22T16:33:32.768745Z",
     "start_time": "2025-10-22T16:33:32.658572Z"
    }
   },
   "cell_type": "code",
   "source": [
    "month_income.plot(\n",
    "    x='Месяц',\n",
    "    y='Доп. траты',\n",
    "    kind='line',\n",
    "    marker='o',\n",
    "    figsize=(10, 6),\n",
    "    title='Месячный доход от дополнительных услуг'\n",
    ")"
   ],
   "id": "393eadc151cacb5",
   "outputs": [
    {
     "data": {
      "text/plain": [
       "<Axes: title={'center': 'Месячный доход от дополнительных услуг'}, xlabel='Месяц'>"
      ]
     },
     "execution_count": 92,
     "metadata": {},
     "output_type": "execute_result"
    },
    {
     "data": {
      "text/plain": [
       "<Figure size 1000x600 with 1 Axes>"
      ],
      "image/png": "[encoded data removed]"
     },
     "metadata": {},
     "output_type": "display_data"
    }
   ],
   "execution_count": 92
  },
  {
   "metadata": {},
   "cell_type": "markdown",
   "source": "Доход по дополнительным услугам за каждый квартал",
   "id": "1b6ef37fd84ae3a8"
  },
  {
   "metadata": {
    "ExecuteTime": {
     "end_time": "2025-10-22T16:13:46.817748Z",
     "start_time": "2025-10-22T16:13:46.796378Z"
    }
   },
   "cell_type": "code",
   "source": [
    "quarter_income = (df.groupby(df['Purchase Date']\n",
    "                          .dt.to_period('Q')\n",
    "                          .dt.to_timestamp())['Add-on Total']\n",
    "                .sum()\n",
    "                .reset_index(name='Доп. траты')\n",
    "                .rename(columns={\"Purchase Date\": \"Квартал\"}))"
   ],
   "id": "31b302e1ee710f89",
   "outputs": [],
   "execution_count": 73
  },
  {
   "metadata": {
    "ExecuteTime": {
     "end_time": "2025-10-22T16:18:19.022501Z",
     "start_time": "2025-10-22T16:18:19.015487Z"
    }
   },
   "cell_type": "code",
   "source": "quarter_income",
   "id": "773a7ec6c368dba8",
   "outputs": [
    {
     "data": {
      "text/plain": [
       "     Квартал  Доп. траты\n",
       "0 2023-07-01     8012.62\n",
       "1 2023-10-01   106235.08\n",
       "2 2024-01-01   381298.34\n",
       "3 2024-04-01   382681.69\n",
       "4 2024-07-01   366669.23"
      ],
      "text/html": [
       "<div>\n",
       "<style scoped>\n",
       "    .dataframe tbody tr th:only-of-type {\n",
       "        vertical-align: middle;\n",
       "    }\n",
       "\n",
       "    .dataframe tbody tr th {\n",
       "        vertical-align: top;\n",
       "    }\n",
       "\n",
       "    .dataframe thead th {\n",
       "        text-align: right;\n",
       "    }\n",
       "</style>\n",
       "<table border=\"1\" class=\"dataframe\">\n",
       "  <thead>\n",
       "    <tr style=\"text-align: right;\">\n",
       "      <th></th>\n",
       "      <th>Квартал</th>\n",
       "      <th>Доп. траты</th>\n",
       "    </tr>\n",
       "  </thead>\n",
       "  <tbody>\n",
       "    <tr>\n",
       "      <th>0</th>\n",
       "      <td>2023-07-01</td>\n",
       "      <td>8012.62</td>\n",
       "    </tr>\n",
       "    <tr>\n",
       "      <th>1</th>\n",
       "      <td>2023-10-01</td>\n",
       "      <td>106235.08</td>\n",
       "    </tr>\n",
       "    <tr>\n",
       "      <th>2</th>\n",
       "      <td>2024-01-01</td>\n",
       "      <td>381298.34</td>\n",
       "    </tr>\n",
       "    <tr>\n",
       "      <th>3</th>\n",
       "      <td>2024-04-01</td>\n",
       "      <td>382681.69</td>\n",
       "    </tr>\n",
       "    <tr>\n",
       "      <th>4</th>\n",
       "      <td>2024-07-01</td>\n",
       "      <td>366669.23</td>\n",
       "    </tr>\n",
       "  </tbody>\n",
       "</table>\n",
       "</div>"
      ]
     },
     "execution_count": 77,
     "metadata": {},
     "output_type": "execute_result"
    }
   ],
   "execution_count": 77
  },
  {
   "metadata": {
    "ExecuteTime": {
     "end_time": "2025-10-22T16:38:20.907601Z",
     "start_time": "2025-10-22T16:38:20.812321Z"
    }
   },
   "cell_type": "code",
   "source": [
    "quarter_income.plot(\n",
    "    x='Квартал',\n",
    "    y='Доп. траты',\n",
    "    kind='line',\n",
    "    marker='o',\n",
    "    figsize=(10, 6),\n",
    "    title='Квартальный доход от дополнительных услуг'\n",
    ")"
   ],
   "id": "f2c0af9c0fa06986",
   "outputs": [
    {
     "data": {
      "text/plain": [
       "<Axes: title={'center': 'Квартальный доход от дополнительных услуг'}, xlabel='Квартал'>"
      ]
     },
     "execution_count": 102,
     "metadata": {},
     "output_type": "execute_result"
    },
    {
     "data": {
      "text/plain": [
       "<Figure size 1000x600 with 1 Axes>"
      ],
      "image/png": "[encoded data removed]"
     },
     "metadata": {},
     "output_type": "display_data"
    }
   ],
   "execution_count": 102
  }
 ],
 "metadata": {
  "kernelspec": {
   "display_name": ".venv",
   "language": "python",
   "name": "python3"
  },
  "language_info": {
   "codemirror_mode": {
    "name": "ipython",
    "version": 3
   },
   "file_extension": ".py",
   "mimetype": "text/x-python",
   "name": "python",
   "nbconvert_exporter": "python",
   "pygments_lexer": "ipython3",
   "version": "3.13.7"
  }
 },
 "nbformat": 4,
 "nbformat_minor": 5
}
