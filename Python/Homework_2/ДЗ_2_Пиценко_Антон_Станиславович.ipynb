{
 "cells": [
  {
   "cell_type": "markdown",
   "id": "adb937a3",
   "metadata": {},
   "source": [
    "# Задание 1"
   ]
  },
  {
   "cell_type": "markdown",
   "id": "b9e40012",
   "metadata": {},
   "source": [
    "Печатные газеты использовали свой формат дат для каждого выпуска. Для каждой газеты из списка напишите формат указанной даты для перевода в объект datetime:\n",
    "\n",
    "The Moscow Times - Wednesday, October 2, 2002\n",
    "\n",
    "The Guardian - Friday, 11.10.13\n",
    "\n",
    "Daily News - Thursday, 18 August 1977\n",
    "\n",
    "Пример работы программы\n",
    "\n",
    "Программа должна выводить на экран объекты типа datetime, соответствующие датам в условии задачи"
   ]
  },
  {
   "cell_type": "code",
   "execution_count": 13,
   "id": "cfb06c94",
   "metadata": {},
   "outputs": [],
   "source": [
    "from datetime import datetime, timedelta"
   ]
  },
  {
   "cell_type": "code",
   "execution_count": 14,
   "id": "44c98e53",
   "metadata": {},
   "outputs": [],
   "source": [
    "THE_MOSCOW_TIMES = \"The Moscow Times\"\n",
    "GUARDIAN_DT = \"The Guardian\"\n",
    "DAILY_NEWS = \"Daily News\""
   ]
  },
  {
   "cell_type": "code",
   "execution_count": null,
   "id": "69b7c955",
   "metadata": {},
   "outputs": [],
   "source": [
    "date_sources = {\n",
    "    THE_MOSCOW_TIMES: {\n",
    "        \"format\": \"%A, %B %d, %Y\",\n",
    "        \"sample\": \"Wednesday, October 2, 2002\"\n",
    "    },\n",
    "    GUARDIAN_DT: {\n",
    "        \"format\": \"%A, %d.%m.%y\",\n",
    "        \"sample\": \"Friday, 11.10.13\"\n",
    "    },\n",
    "    DAILY_NEWS: {\n",
    "        \"format\": \"%A, %d %B %Y\",\n",
    "        \"sample\": \"Thursday, 18 August 1977\"\n",
    "    }\n",
    "}"
   ]
  },
  {
   "cell_type": "code",
   "execution_count": 20,
   "id": "46d152cd",
   "metadata": {},
   "outputs": [
    {
     "name": "stdout",
     "output_type": "stream",
     "text": [
      "2002-10-02 00:00:00\n",
      "2013-10-11 00:00:00\n",
      "1977-08-18 00:00:00\n"
     ]
    }
   ],
   "source": [
    "for source, data in date_sources.items():\n",
    "    dt = datetime.strptime(data[\"sample\"], data[\"format\"])\n",
    "    print(f\"{dt}\")"
   ]
  },
  {
   "cell_type": "markdown",
   "id": "6bf1b08c",
   "metadata": {},
   "source": [
    "# Задание 2"
   ]
  },
  {
   "cell_type": "markdown",
   "id": "661c3ed4",
   "metadata": {},
   "source": [
    "Программа при выполнении функции\n",
    "\n",
    "date_range(‘2022-01-01’, ‘2022-01-03’)\n",
    "\n",
    "выводит строки на экран:\n",
    "\n",
    "[‘2022-01-01’, ‘2022-01-02’, ‘2022-01-03’]\n",
    "\n",
    "Программа при выполнении функции\n",
    "\n",
    "date_range(‘2022-01-03’, ‘2022-01-01’)\n",
    "\n",
    "выводит на экран:\n",
    "\n",
    "[]\n",
    "\n",
    "Программа при выполнении функции\n",
    "\n",
    "date_range(‘2022-02-30’, ‘2022-02-31’)\n",
    "\n",
    "выводит на экран:\n",
    "\n",
    "[]"
   ]
  },
  {
   "cell_type": "code",
   "execution_count": 42,
   "id": "de106d07",
   "metadata": {},
   "outputs": [],
   "source": [
    "def data_range(start : str, end: str) -> list[str]:\n",
    "    pattern = \"%Y-%m-%d\"\n",
    "    result = []\n",
    "\n",
    "    try:\n",
    "        start_date = datetime.strptime(start, pattern)\n",
    "        end_date = datetime.strptime(end, pattern)\n",
    "        delta = timedelta(days=1)\n",
    "\n",
    "        while start_date <= end_date:\n",
    "            result.append(start_date.date().strftime(pattern))\n",
    "            start_date += delta\n",
    "\n",
    "        return result\n",
    "    except ValueError:\n",
    "        return result"
   ]
  },
  {
   "cell_type": "code",
   "execution_count": null,
   "id": "48244c8f",
   "metadata": {},
   "outputs": [
    {
     "data": {
      "text/plain": [
       "['2022-01-01', '2022-01-02', '2022-01-03']"
      ]
     },
     "execution_count": 43,
     "metadata": {},
     "output_type": "execute_result"
    }
   ],
   "source": [
    "data_range('2022-01-01', '2022-01-03')"
   ]
  },
  {
   "cell_type": "code",
   "execution_count": 44,
   "id": "b9a91f67",
   "metadata": {},
   "outputs": [
    {
     "data": {
      "text/plain": [
       "[]"
      ]
     },
     "execution_count": 44,
     "metadata": {},
     "output_type": "execute_result"
    }
   ],
   "source": [
    "data_range('2022-01-03', '2022-01-01')"
   ]
  },
  {
   "cell_type": "code",
   "execution_count": 45,
   "id": "27dd34f8",
   "metadata": {},
   "outputs": [
    {
     "data": {
      "text/plain": [
       "[]"
      ]
     },
     "execution_count": 45,
     "metadata": {},
     "output_type": "execute_result"
    }
   ],
   "source": [
    "data_range('2022-02-30', '2022-02-31')"
   ]
  }
 ],
 "metadata": {
  "kernelspec": {
   "display_name": ".venv",
   "language": "python",
   "name": "python3"
  },
  "language_info": {
   "codemirror_mode": {
    "name": "ipython",
    "version": 3
   },
   "file_extension": ".py",
   "mimetype": "text/x-python",
   "name": "python",
   "nbconvert_exporter": "python",
   "pygments_lexer": "ipython3",
   "version": "3.13.7"
  }
 },
 "nbformat": 4,
 "nbformat_minor": 5
}
